{
 "cells": [
  {
   "cell_type": "code",
   "execution_count": 1,
   "metadata": {},
   "outputs": [
    {
     "name": "stderr",
     "output_type": "stream",
     "text": [
      "Using TensorFlow backend.\n"
     ]
    }
   ],
   "source": [
    "import sys\n",
    "import h5py\n",
    "import os\n",
    "from keras.preprocessing.image import ImageDataGenerator\n",
    "from keras import optimizers\n",
    "from keras.models import Sequential\n",
    "from keras.layers import Dropout, Flatten, Dense, Activation\n",
    "from keras.layers.convolutional import Convolution2D, MaxPooling2D\n",
    "from keras import callbacks"
   ]
  },
  {
   "cell_type": "code",
   "execution_count": 2,
   "metadata": {
    "collapsed": true
   },
   "outputs": [],
   "source": [
    "train_data_path = r'data/american_data/train'\n",
    "validation_data_path = r'data/american_data/test'"
   ]
  },
  {
   "cell_type": "code",
   "execution_count": 3,
   "metadata": {
    "collapsed": true
   },
   "outputs": [],
   "source": [
    "epochs = 50\n",
    "img_width, img_height = 64, 64\n",
    "batch_size = 40\n",
    "samples_per_epoch = 100\n",
    "validation_steps = 50\n",
    "nb_filters1 = 32\n",
    "nb_filters2 = 64\n",
    "conv1_size = 3\n",
    "conv2_size = 2\n",
    "pool_size = 2\n",
    "classes_num = 24\n",
    "lr = 0.004"
   ]
  },
  {
   "cell_type": "code",
   "execution_count": 4,
   "metadata": {
    "collapsed": true
   },
   "outputs": [],
   "source": [
    "model = Sequential()\n",
    "model.add(Convolution2D(nb_filters1, (conv1_size, conv1_size), padding =\"same\", input_shape=(img_width, img_height, 3)))\n",
    "model.add(Activation(\"relu\"))\n",
    "model.add(MaxPooling2D(pool_size=(pool_size, pool_size)))"
   ]
  },
  {
   "cell_type": "code",
   "execution_count": 5,
   "metadata": {},
   "outputs": [
    {
     "name": "stderr",
     "output_type": "stream",
     "text": [
      "C:\\Users\\anoop\\Anaconda3\\lib\\site-packages\\ipykernel_launcher.py:3: UserWarning: Update your `MaxPooling2D` call to the Keras 2 API: `MaxPooling2D(pool_size=(2, 2), data_format=\"channels_first\")`\n",
      "  This is separate from the ipykernel package so we can avoid doing imports until\n"
     ]
    }
   ],
   "source": [
    "model.add(Convolution2D(nb_filters2, (conv2_size, conv2_size), padding =\"same\"))\n",
    "model.add(Activation(\"relu\"))\n",
    "model.add(MaxPooling2D(pool_size=(pool_size, pool_size), dim_ordering='th'))"
   ]
  },
  {
   "cell_type": "code",
   "execution_count": 6,
   "metadata": {
    "collapsed": true
   },
   "outputs": [],
   "source": [
    "model.add(Flatten())\n",
    "model.add(Dense(256))\n",
    "model.add(Activation(\"relu\"))\n",
    "model.add(Dropout(0.5))\n",
    "model.add(Dense(classes_num, activation='softmax'))"
   ]
  },
  {
   "cell_type": "code",
   "execution_count": 7,
   "metadata": {
    "collapsed": true
   },
   "outputs": [],
   "source": [
    "model.compile(loss='categorical_crossentropy',\n",
    "              optimizer=optimizers.RMSprop(lr=lr),\n",
    "              metrics=['accuracy'])"
   ]
  },
  {
   "cell_type": "code",
   "execution_count": 8,
   "metadata": {},
   "outputs": [
    {
     "name": "stdout",
     "output_type": "stream",
     "text": [
      "_________________________________________________________________\n",
      "Layer (type)                 Output Shape              Param #   \n",
      "=================================================================\n",
      "conv2d_1 (Conv2D)            (None, 64, 64, 32)        896       \n",
      "_________________________________________________________________\n",
      "activation_1 (Activation)    (None, 64, 64, 32)        0         \n",
      "_________________________________________________________________\n",
      "max_pooling2d_1 (MaxPooling2 (None, 32, 32, 32)        0         \n",
      "_________________________________________________________________\n",
      "conv2d_2 (Conv2D)            (None, 32, 32, 64)        8256      \n",
      "_________________________________________________________________\n",
      "activation_2 (Activation)    (None, 32, 32, 64)        0         \n",
      "_________________________________________________________________\n",
      "max_pooling2d_2 (MaxPooling2 (None, 32, 16, 32)        0         \n",
      "_________________________________________________________________\n",
      "flatten_1 (Flatten)          (None, 16384)             0         \n",
      "_________________________________________________________________\n",
      "dense_1 (Dense)              (None, 256)               4194560   \n",
      "_________________________________________________________________\n",
      "activation_3 (Activation)    (None, 256)               0         \n",
      "_________________________________________________________________\n",
      "dropout_1 (Dropout)          (None, 256)               0         \n",
      "_________________________________________________________________\n",
      "dense_2 (Dense)              (None, 24)                6168      \n",
      "=================================================================\n",
      "Total params: 4,209,880\n",
      "Trainable params: 4,209,880\n",
      "Non-trainable params: 0\n",
      "_________________________________________________________________\n"
     ]
    }
   ],
   "source": [
    "model.summary()"
   ]
  },
  {
   "cell_type": "code",
   "execution_count": 9,
   "metadata": {
    "collapsed": true
   },
   "outputs": [],
   "source": [
    "train_datagen = ImageDataGenerator(\n",
    "    rescale=1. / 255,\n",
    "    shear_range=0.2,\n",
    "    zoom_range=0.2,\n",
    "    horizontal_flip=True)\n",
    "\n",
    "test_datagen = ImageDataGenerator(rescale=1. / 255)"
   ]
  },
  {
   "cell_type": "code",
   "execution_count": 10,
   "metadata": {},
   "outputs": [
    {
     "name": "stdout",
     "output_type": "stream",
     "text": [
      "Found 4015 images belonging to 24 classes.\n",
      "Found 957 images belonging to 24 classes.\n"
     ]
    }
   ],
   "source": [
    "train_generator = train_datagen.flow_from_directory(\n",
    "    train_data_path,\n",
    "    target_size=(img_height, img_width),\n",
    "    batch_size=batch_size,\n",
    "    class_mode='categorical')\n",
    "\n",
    "\n",
    "validation_generator = test_datagen.flow_from_directory(\n",
    "    validation_data_path,\n",
    "    target_size=(img_height, img_width),\n",
    "    batch_size=batch_size,\n",
    "    class_mode='categorical')"
   ]
  },
  {
   "cell_type": "code",
   "execution_count": 11,
   "metadata": {
    "collapsed": true
   },
   "outputs": [],
   "source": [
    "#Tensorboard log\n",
    "#log_dir = './tf-log/'\n",
    "#tb_cb = callbacks.TensorBoard(log_dir=log_dir, histogram_freq=1)\n",
    "#cbks = [tb_cb]"
   ]
  },
  {
   "cell_type": "code",
   "execution_count": 12,
   "metadata": {},
   "outputs": [
    {
     "name": "stdout",
     "output_type": "stream",
     "text": [
      "Epoch 1/50\n",
      "50/50 [==============================] - 93s - loss: 5.8880 - acc: 0.0440 - val_loss: 3.2942 - val_acc: 0.0722\n",
      "Epoch 2/50\n",
      "50/50 [==============================] - 62s - loss: 2.9876 - acc: 0.1515 - val_loss: 2.5609 - val_acc: 0.2407\n",
      "Epoch 3/50\n",
      "50/50 [==============================] - 49s - loss: 2.1430 - acc: 0.3549 - val_loss: 2.1444 - val_acc: 0.3616\n",
      "Epoch 4/50\n",
      "50/50 [==============================] - 47s - loss: 1.6956 - acc: 0.4685 - val_loss: 1.6853 - val_acc: 0.4273\n",
      "Epoch 5/50\n",
      "50/50 [==============================] - 59s - loss: 1.3898 - acc: 0.5480 - val_loss: 1.4246 - val_acc: 0.5251\n",
      "Epoch 6/50\n",
      "50/50 [==============================] - 57s - loss: 1.1471 - acc: 0.6330 - val_loss: 1.1056 - val_acc: 0.6289\n",
      "Epoch 7/50\n",
      "50/50 [==============================] - 60s - loss: 0.9526 - acc: 0.6807 - val_loss: 1.1248 - val_acc: 0.6640\n",
      "Epoch 8/50\n",
      "50/50 [==============================] - 65s - loss: 0.8009 - acc: 0.7425 - val_loss: 1.2987 - val_acc: 0.5878\n",
      "Epoch 9/50\n",
      "50/50 [==============================] - 59s - loss: 0.8084 - acc: 0.7410 - val_loss: 0.8972 - val_acc: 0.7161\n",
      "Epoch 10/50\n",
      "50/50 [==============================] - 64s - loss: 0.6208 - acc: 0.7945 - val_loss: 0.8772 - val_acc: 0.7382\n",
      "Epoch 11/50\n",
      "50/50 [==============================] - 65s - loss: 0.5846 - acc: 0.8176 - val_loss: 0.7345 - val_acc: 0.7427\n",
      "Epoch 12/50\n",
      "50/50 [==============================] - 72s - loss: 0.5655 - acc: 0.8185 - val_loss: 1.0330 - val_acc: 0.6770\n",
      "Epoch 13/50\n",
      "50/50 [==============================] - 63s - loss: 0.5638 - acc: 0.8288 - val_loss: 0.6336 - val_acc: 0.7813\n",
      "Epoch 14/50\n",
      "50/50 [==============================] - 54s - loss: 0.4450 - acc: 0.8660 - val_loss: 0.6141 - val_acc: 0.7823\n",
      "Epoch 15/50\n",
      "50/50 [==============================] - 65s - loss: 0.3922 - acc: 0.8728 - val_loss: 0.7990 - val_acc: 0.7869\n",
      "Epoch 16/50\n",
      "50/50 [==============================] - 70s - loss: 0.4106 - acc: 0.8715 - val_loss: 0.8299 - val_acc: 0.7417\n",
      "Epoch 17/50\n",
      "50/50 [==============================] - 66s - loss: 0.3859 - acc: 0.8757 - val_loss: 0.8240 - val_acc: 0.7623\n",
      "Epoch 18/50\n",
      "50/50 [==============================] - 64s - loss: 0.3853 - acc: 0.8870 - val_loss: 0.8682 - val_acc: 0.7773\n",
      "Epoch 19/50\n",
      "50/50 [==============================] - 71s - loss: 0.3517 - acc: 0.8988 - val_loss: 0.6441 - val_acc: 0.8164\n",
      "Epoch 20/50\n",
      "50/50 [==============================] - 61s - loss: 0.3043 - acc: 0.9000 - val_loss: 1.5219 - val_acc: 0.7844\n",
      "Epoch 21/50\n",
      "50/50 [==============================] - 73s - loss: 0.3394 - acc: 0.8977 - val_loss: 0.9420 - val_acc: 0.7914\n",
      "Epoch 22/50\n",
      "50/50 [==============================] - 68s - loss: 0.2943 - acc: 0.9125 - val_loss: 1.0412 - val_acc: 0.7623\n",
      "Epoch 23/50\n",
      "50/50 [==============================] - 63s - loss: 0.2706 - acc: 0.9158 - val_loss: 0.7129 - val_acc: 0.8345\n",
      "Epoch 24/50\n",
      "50/50 [==============================] - 69s - loss: 0.2709 - acc: 0.9310 - val_loss: 1.9355 - val_acc: 0.7197\n",
      "Epoch 25/50\n",
      "50/50 [==============================] - 66s - loss: 0.2381 - acc: 0.9282 - val_loss: 0.9230 - val_acc: 0.7874\n",
      "Epoch 26/50\n",
      "50/50 [==============================] - 77s - loss: 0.2685 - acc: 0.9220 - val_loss: 0.8295 - val_acc: 0.8245\n",
      "Epoch 27/50\n",
      "50/50 [==============================] - 70s - loss: 0.2420 - acc: 0.9312 - val_loss: 0.8832 - val_acc: 0.7999\n",
      "Epoch 28/50\n",
      "50/50 [==============================] - 63s - loss: 0.2276 - acc: 0.9335 - val_loss: 0.7372 - val_acc: 0.8531\n",
      "Epoch 29/50\n",
      "50/50 [==============================] - 64s - loss: 0.2165 - acc: 0.9275 - val_loss: 0.9920 - val_acc: 0.8330\n",
      "Epoch 30/50\n",
      "50/50 [==============================] - 63s - loss: 0.2456 - acc: 0.9375 - val_loss: 1.2889 - val_acc: 0.7503\n",
      "Epoch 31/50\n",
      "50/50 [==============================] - 50s - loss: 0.2087 - acc: 0.9350 - val_loss: 0.7616 - val_acc: 0.8190\n",
      "Epoch 32/50\n",
      "50/50 [==============================] - 42s - loss: 0.2017 - acc: 0.9440 - val_loss: 1.0948 - val_acc: 0.7934\n",
      "Epoch 33/50\n",
      "50/50 [==============================] - 42s - loss: 0.2936 - acc: 0.9310 - val_loss: 0.7615 - val_acc: 0.8335\n",
      "Epoch 34/50\n",
      "50/50 [==============================] - 44s - loss: 0.3407 - acc: 0.9345 - val_loss: 1.6723 - val_acc: 0.7337\n",
      "Epoch 35/50\n",
      "50/50 [==============================] - 51s - loss: 0.1669 - acc: 0.9545 - val_loss: 1.0326 - val_acc: 0.7879\n",
      "Epoch 36/50\n",
      "50/50 [==============================] - 51s - loss: 0.1983 - acc: 0.9450 - val_loss: 0.9379 - val_acc: 0.8450\n",
      "Epoch 37/50\n",
      "50/50 [==============================] - 57s - loss: 0.2085 - acc: 0.9430 - val_loss: 0.8809 - val_acc: 0.8501\n",
      "Epoch 38/50\n",
      "50/50 [==============================] - 57s - loss: 0.2067 - acc: 0.9515 - val_loss: 0.8728 - val_acc: 0.8460\n",
      "Epoch 39/50\n",
      "50/50 [==============================] - 69s - loss: 0.2194 - acc: 0.9494 - val_loss: 1.0554 - val_acc: 0.8370\n",
      "Epoch 40/50\n",
      "50/50 [==============================] - 64s - loss: 0.1910 - acc: 0.9540 - val_loss: 1.1402 - val_acc: 0.7969\n",
      "Epoch 41/50\n",
      "50/50 [==============================] - 67s - loss: 0.1808 - acc: 0.9572 - val_loss: 0.9606 - val_acc: 0.8350\n",
      "Epoch 42/50\n",
      "50/50 [==============================] - 71s - loss: 0.1880 - acc: 0.9560 - val_loss: 0.8645 - val_acc: 0.8435\n",
      "Epoch 43/50\n",
      "50/50 [==============================] - 61s - loss: 0.1908 - acc: 0.9527 - val_loss: 1.3681 - val_acc: 0.7914\n",
      "Epoch 44/50\n",
      "50/50 [==============================] - 50s - loss: 0.2087 - acc: 0.9530 - val_loss: 1.3165 - val_acc: 0.8154\n",
      "Epoch 45/50\n",
      "50/50 [==============================] - 46s - loss: 0.1537 - acc: 0.9587 - val_loss: 0.8637 - val_acc: 0.8566\n",
      "Epoch 46/50\n",
      "50/50 [==============================] - 51s - loss: 0.2086 - acc: 0.9480 - val_loss: 0.9245 - val_acc: 0.8475\n",
      "Epoch 47/50\n",
      "50/50 [==============================] - 50s - loss: 0.2090 - acc: 0.9547 - val_loss: 1.0399 - val_acc: 0.8079\n",
      "Epoch 48/50\n",
      "50/50 [==============================] - 50s - loss: 0.1684 - acc: 0.9525 - val_loss: 1.0488 - val_acc: 0.8380\n",
      "Epoch 49/50\n",
      "50/50 [==============================] - 45s - loss: 0.1617 - acc: 0.9584 - val_loss: 1.4340 - val_acc: 0.8245\n",
      "Epoch 50/50\n",
      "50/50 [==============================] - 51s - loss: 0.4068 - acc: 0.9325 - val_loss: 1.0175 - val_acc: 0.8235\n"
     ]
    },
    {
     "data": {
      "text/plain": [
       "<keras.callbacks.History at 0x25ad17f5668>"
      ]
     },
     "execution_count": 12,
     "metadata": {},
     "output_type": "execute_result"
    }
   ],
   "source": [
    "model.fit_generator(\n",
    "    train_generator,\n",
    "    steps_per_epoch = 50,\n",
    "    #samples_per_epoch=samples_per_epoch,\n",
    "    epochs=epochs,\n",
    "    validation_data=validation_generator,\n",
    "    #callbacks=cbks,\n",
    "    validation_steps=validation_steps)"
   ]
  },
  {
   "cell_type": "code",
   "execution_count": 13,
   "metadata": {
    "collapsed": true
   },
   "outputs": [],
   "source": [
    "target_dir = r'models/'\n",
    "if not os.path.exists(target_dir):\n",
    "  os.mkdir(target_dir)\n",
    "model.save(r'models/model.h5')\n",
    "model.save_weights('./models/weights.h5')"
   ]
  },
  {
   "cell_type": "code",
   "execution_count": null,
   "metadata": {
    "collapsed": true
   },
   "outputs": [],
   "source": []
  }
 ],
 "metadata": {
  "kernelspec": {
   "display_name": "Python 3",
   "language": "python",
   "name": "python3"
  },
  "language_info": {
   "codemirror_mode": {
    "name": "ipython",
    "version": 3
   },
   "file_extension": ".py",
   "mimetype": "text/x-python",
   "name": "python",
   "nbconvert_exporter": "python",
   "pygments_lexer": "ipython3",
   "version": "3.6.1"
  }
 },
 "nbformat": 4,
 "nbformat_minor": 2
}
