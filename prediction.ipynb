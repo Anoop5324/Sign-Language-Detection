{
 "cells": [
  {
   "cell_type": "code",
   "execution_count": 45,
   "metadata": {},
   "outputs": [],
   "source": [
    "import os\n",
    "import numpy as np\n",
    "from keras.preprocessing.image import ImageDataGenerator, load_img, img_to_array\n",
    "from keras.models import Sequential, load_model\n",
    "import h5py"
   ]
  },
  {
   "cell_type": "code",
   "execution_count": 46,
   "metadata": {
    "collapsed": true
   },
   "outputs": [],
   "source": [
    "img_width, img_height = 64, 64\n",
    "model_path = r'models/model.h5'\n",
    "model_weights_path = r'models/weights.h5'\n",
    "model = load_model(model_path)\n",
    "model.load_weights(model_weights_path)"
   ]
  },
  {
   "cell_type": "code",
   "execution_count": 78,
   "metadata": {
    "collapsed": true
   },
   "outputs": [],
   "source": [
    "def predict(file):\n",
    "  x = load_img(file, target_size=(img_width,img_height))\n",
    "  x = img_to_array(x)/255\n",
    "  x = np.expand_dims(x, axis=0)\n",
    "  array = model.predict(x)\n",
    "  result = array[0]\n",
    "  answer = np.argmax(result)\n",
    "  print(answer)\n",
    "  print(array)"
   ]
  },
  {
   "cell_type": "code",
   "execution_count": 89,
   "metadata": {},
   "outputs": [
    {
     "name": "stdout",
     "output_type": "stream",
     "text": [
      "22\n",
      "[[  3.72743254e-16   4.56016605e-12   1.16764802e-08   1.10883760e-26\n",
      "    1.46516186e-16   5.11539866e-13   3.75538356e-09   5.46171680e-28\n",
      "    1.38169041e-15   4.19744968e-12   2.51562572e-20   2.84341301e-10\n",
      "    2.29813281e-07   5.25590040e-05   9.52453516e-14   4.40096381e-15\n",
      "    1.49859051e-14   2.40467663e-11   3.24228352e-11   2.73655248e-23\n",
      "    2.10279394e-24   8.18442696e-25   9.99947190e-01   4.47604323e-12]]\n"
     ]
    }
   ],
   "source": [
    "file = 'x.jpg'\n",
    "predict(file)"
   ]
  },
  {
   "cell_type": "code",
   "execution_count": null,
   "metadata": {
    "collapsed": true
   },
   "outputs": [],
   "source": []
  }
 ],
 "metadata": {
  "kernelspec": {
   "display_name": "Python 3",
   "language": "python",
   "name": "python3"
  },
  "language_info": {
   "codemirror_mode": {
    "name": "ipython",
    "version": 3
   },
   "file_extension": ".py",
   "mimetype": "text/x-python",
   "name": "python",
   "nbconvert_exporter": "python",
   "pygments_lexer": "ipython3",
   "version": "3.6.1"
  }
 },
 "nbformat": 4,
 "nbformat_minor": 2
}
